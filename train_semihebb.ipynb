{
 "cells": [
  {
   "cell_type": "code",
   "execution_count": 1,
   "metadata": {},
   "outputs": [],
   "source": [
    "import os\n",
    "#import sys\n",
    "import torch\n",
    "import torch.nn as nn\n",
    "import torch.utils.data as Data\n",
    "import torchvision\n",
    "import matplotlib.pyplot as plt\n",
    "\n",
    "#sys.path.append('../')\n",
    "from data.load_data import *\n",
    "from models.neural_networks import *\n",
    "from train.train_cnn import *\n",
    "from train.train_fcn import *\n",
    "from train.train_semihebb import *\n",
    "from evaluation.test import *\n",
    "from utils.others import *\n",
    "from utils.plot import *\n",
    "from utils.save_model import *"
   ]
  },
  {
   "cell_type": "code",
   "execution_count": 2,
   "metadata": {},
   "outputs": [],
   "source": [
    "# torch.manual_seed(1)    # reproducible\n",
    "\n",
    "# Hyper Parameters\n",
    "EPOCH = 1               \n",
    "BATCH_SIZE = 50\n",
    "LR = 0.001             \n",
    "TSNE = True"
   ]
  },
  {
   "cell_type": "code",
   "execution_count": 3,
   "metadata": {},
   "outputs": [
    {
     "name": "stdout",
     "output_type": "stream",
     "text": [
      "60000\n",
      "10000\n"
     ]
    }
   ],
   "source": [
    "#load MNIST dataset\n",
    "train_loader, test_loader = load_mnist(BATCH_SIZE)\n",
    "print(len(train_loader.dataset))\n",
    "print(len(test_loader.dataset))\n",
    "#load CIFAR-10 dataset"
   ]
  },
  {
   "cell_type": "code",
   "execution_count": 4,
   "metadata": {},
   "outputs": [
    {
     "data": {
      "image/png": "[encoded data removed]",
      "text/plain": [
       "<Figure size 640x480 with 1 Axes>"
      ]
     },
     "metadata": {},
     "output_type": "display_data"
    }
   ],
   "source": [
    "# Plot one example\n",
    "plot_example(train_loader)"
   ]
  },
  {
   "cell_type": "markdown",
   "metadata": {},
   "source": [
    "# Train with Hebb rule\n",
    "\n",
    "note that hebbian weights goes to infinity, values will be NaN after they go out of the range, so tSNE plot cannot be used."
   ]
  },
  {
   "cell_type": "code",
   "execution_count": 5,
   "metadata": {},
   "outputs": [],
   "source": [
    "TSNE = False"
   ]
  },
  {
   "cell_type": "code",
   "execution_count": 6,
   "metadata": {},
   "outputs": [],
   "source": [
    "# create model instance\n",
    "\n",
    "hebbnet = HebbNet([784,2000],lr=LR,require_hebb=True,activation=True,update_rule='hebb',p=None)\n",
    "fcn = FCN([2000,10])\n",
    "\n",
    "semihebbnet = SemiHebbNet(hebbnet, fcn)"
   ]
  },
  {
   "cell_type": "code",
   "execution_count": 7,
   "metadata": {},
   "outputs": [],
   "source": [
    "# optimizer and loss function\n",
    "optimizer = torch.optim.Adam(semihebbnet.parameters(), lr=LR)  \n",
    "loss_func = nn.CrossEntropyLoss()                       # the target label is not one-hotted"
   ]
  },
  {
   "cell_type": "code",
   "execution_count": 8,
   "metadata": {},
   "outputs": [
    {
     "name": "stdout",
     "output_type": "stream",
     "text": [
      "Epoch: 0, Step: 0, Loss: 2.285526990890503, Accuracy: 9.88%\n",
      "Epoch: 0, Step: 50, Loss: nan, Accuracy: 9.8%\n",
      "Epoch: 0, Step: 100, Loss: nan, Accuracy: 9.8%\n",
      "Epoch: 0, Step: 150, Loss: nan, Accuracy: 9.8%\n",
      "Epoch: 0, Step: 200, Loss: nan, Accuracy: 9.8%\n",
      "Epoch: 0, Step: 250, Loss: nan, Accuracy: 9.8%\n",
      "Epoch: 0, Step: 300, Loss: nan, Accuracy: 9.8%\n",
      "Epoch: 0, Step: 350, Loss: nan, Accuracy: 9.8%\n",
      "Epoch: 0, Step: 400, Loss: nan, Accuracy: 9.8%\n",
      "Epoch: 0, Step: 450, Loss: nan, Accuracy: 9.8%\n",
      "Epoch: 0, Step: 500, Loss: nan, Accuracy: 9.8%\n",
      "Epoch: 0, Step: 550, Loss: nan, Accuracy: 9.8%\n",
      "Epoch: 0, Step: 600, Loss: nan, Accuracy: 9.8%\n",
      "Epoch: 0, Step: 650, Loss: nan, Accuracy: 9.8%\n",
      "Epoch: 0, Step: 700, Loss: nan, Accuracy: 9.8%\n",
      "Epoch: 0, Step: 750, Loss: nan, Accuracy: 9.8%\n",
      "Epoch: 0, Step: 800, Loss: nan, Accuracy: 9.8%\n",
      "Epoch: 0, Step: 850, Loss: nan, Accuracy: 9.8%\n",
      "Epoch: 0, Step: 900, Loss: nan, Accuracy: 9.8%\n",
      "Epoch: 0, Step: 950, Loss: nan, Accuracy: 9.8%\n",
      "Epoch: 0, Step: 1000, Loss: nan, Accuracy: 9.8%\n",
      "Epoch: 0, Step: 1050, Loss: nan, Accuracy: 9.8%\n",
      "Epoch: 0, Step: 1100, Loss: nan, Accuracy: 9.8%\n",
      "Epoch: 0, Step: 1150, Loss: nan, Accuracy: 9.8%\n"
     ]
    }
   ],
   "source": [
    "# train networks\n",
    "train_semihebb(model=semihebbnet, train_loader=train_loader, test_loader=test_loader, optimizer=optimizer, loss_func=loss_func, epochs=EPOCH, tsne_enabled=TSNE)"
   ]
  },
  {
   "cell_type": "code",
   "execution_count": 10,
   "metadata": {},
   "outputs": [
    {
     "name": "stdout",
     "output_type": "stream",
     "text": [
      "Accuracy of the SemiHebbNet on the MNIST test images: 9.8%\n"
     ]
    },
    {
     "data": {
      "text/plain": [
       "9.8"
      ]
     },
     "execution_count": 10,
     "metadata": {},
     "output_type": "execute_result"
    }
   ],
   "source": [
    "# test accuracy\n",
    "test_accuracy(model=semihebbnet, dataset='mnist', flatten_input=True)"
   ]
  },
  {
   "cell_type": "markdown",
   "metadata": {},
   "source": [
    "# Train with Oja's rule"
   ]
  },
  {
   "cell_type": "code",
   "execution_count": 2,
   "metadata": {},
   "outputs": [
    {
     "name": "stdout",
     "output_type": "stream",
     "text": [
      "60000\n",
      "10000\n",
      "Epoch: 0, Step: 0, Loss: 2.322434902191162, Accuracy: 9.7%\n",
      "Epoch: 0, Step: 50, Loss: 2.3417558670043945, Accuracy: 9.36%\n",
      "Epoch: 0, Step: 100, Loss: 2.30466890335083, Accuracy: 9.93%\n",
      "Epoch: 0, Step: 150, Loss: 2.3036868572235107, Accuracy: 10.13%\n",
      "Epoch: 0, Step: 200, Loss: 2.2926180362701416, Accuracy: 10.19%\n",
      "Epoch: 0, Step: 250, Loss: 2.340087652206421, Accuracy: 10.05%\n",
      "Epoch: 0, Step: 300, Loss: 2.306126594543457, Accuracy: 10.04%\n",
      "Epoch: 0, Step: 350, Loss: 2.300002098083496, Accuracy: 10.43%\n",
      "Epoch: 0, Step: 400, Loss: 2.301267385482788, Accuracy: 10.08%\n",
      "Epoch: 0, Step: 450, Loss: 2.30279541015625, Accuracy: 10.34%\n",
      "Epoch: 0, Step: 500, Loss: 2.306166172027588, Accuracy: 10.28%\n",
      "Epoch: 0, Step: 550, Loss: 2.302325963973999, Accuracy: 10.19%\n",
      "Epoch: 0, Step: 600, Loss: 2.30098819732666, Accuracy: 10.11%\n",
      "Epoch: 0, Step: 650, Loss: 2.3039581775665283, Accuracy: 10.32%\n",
      "Epoch: 0, Step: 700, Loss: 2.301776170730591, Accuracy: 10.28%\n",
      "Epoch: 0, Step: 750, Loss: 2.3028793334960938, Accuracy: 10.0%\n",
      "Epoch: 0, Step: 800, Loss: 2.3056387901306152, Accuracy: 10.05%\n",
      "Epoch: 0, Step: 850, Loss: 2.3016252517700195, Accuracy: 10.36%\n",
      "Epoch: 0, Step: 900, Loss: 2.3056931495666504, Accuracy: 10.57%\n",
      "Epoch: 0, Step: 950, Loss: 2.300616979598999, Accuracy: 10.18%\n",
      "Epoch: 0, Step: 1000, Loss: 2.305511713027954, Accuracy: 10.35%\n",
      "Epoch: 0, Step: 1050, Loss: 2.5871639251708984, Accuracy: 10.2%\n",
      "Epoch: 0, Step: 1100, Loss: 2.3036928176879883, Accuracy: 10.24%\n",
      "Epoch: 0, Step: 1150, Loss: 2.302341938018799, Accuracy: 10.36%\n"
     ]
    }
   ],
   "source": [
    "# Hyper Parameters\n",
    "EPOCH = 1               \n",
    "BATCH_SIZE = 50\n",
    "LR = 0.0001             \n",
    "TSNE = False\n",
    "\n",
    "#load MNIST dataset\n",
    "train_loader, test_loader = load_mnist(BATCH_SIZE)\n",
    "print(len(train_loader.dataset))\n",
    "print(len(test_loader.dataset))\n",
    "\n",
    "# create model instance\n",
    "hebbnet = HebbNet([784,2000],lr=LR,require_hebb=True,activation=True,update_rule='oja',p=None)\n",
    "fcn = FCN([2000,10])\n",
    "\n",
    "semihebbnet = SemiHebbNet(hebbnet, fcn)\n",
    "\n",
    "# optimizer and loss function\n",
    "optimizer = torch.optim.Adam(semihebbnet.parameters(), lr=LR)  \n",
    "loss_func = nn.CrossEntropyLoss()                  \n",
    "\n",
    "# train networks\n",
    "train_semihebb(model=semihebbnet, train_loader=train_loader, test_loader=test_loader, optimizer=optimizer, loss_func=loss_func, epochs=EPOCH, tsne_enabled=TSNE)"
   ]
  },
  {
   "cell_type": "code",
   "execution_count": 3,
   "metadata": {},
   "outputs": [
    {
     "name": "stdout",
     "output_type": "stream",
     "text": [
      "Accuracy of the SemiHebbNet on the MNIST test images: 10.09%\n"
     ]
    },
    {
     "data": {
      "text/plain": [
       "10.09"
      ]
     },
     "execution_count": 3,
     "metadata": {},
     "output_type": "execute_result"
    }
   ],
   "source": [
    "# test accuracy\n",
    "test_accuracy(model=semihebbnet, dataset='mnist', flatten_input=True)"
   ]
  },
  {
   "cell_type": "markdown",
   "metadata": {},
   "source": [
    "# Train with Gupta's rule"
   ]
  },
  {
   "cell_type": "code",
   "execution_count": 2,
   "metadata": {},
   "outputs": [
    {
     "name": "stdout",
     "output_type": "stream",
     "text": [
      "60000\n",
      "10000\n",
      "Epoch: 0, Step: 0, Loss: 2.245434284210205, Accuracy: 9.58%\n",
      "Epoch: 0, Step: 50, Loss: 2.2956690788269043, Accuracy: 10.09%\n",
      "Epoch: 0, Step: 100, Loss: 2.3050031661987305, Accuracy: 10.08%\n",
      "Epoch: 0, Step: 150, Loss: 2.310847043991089, Accuracy: 10.1%\n",
      "Epoch: 0, Step: 200, Loss: 2.295461654663086, Accuracy: 10.1%\n",
      "Epoch: 0, Step: 250, Loss: 2.2985427379608154, Accuracy: 10.1%\n",
      "Epoch: 0, Step: 300, Loss: 2.3071508407592773, Accuracy: 10.1%\n",
      "Epoch: 0, Step: 350, Loss: 2.304858446121216, Accuracy: 10.1%\n",
      "Epoch: 0, Step: 400, Loss: 2.3032853603363037, Accuracy: 10.1%\n",
      "Epoch: 0, Step: 450, Loss: 2.2823591232299805, Accuracy: 10.1%\n",
      "Epoch: 0, Step: 500, Loss: 2.3034074306488037, Accuracy: 10.1%\n",
      "Epoch: 0, Step: 550, Loss: 2.3024299144744873, Accuracy: 10.1%\n",
      "Epoch: 0, Step: 600, Loss: 2.2815165519714355, Accuracy: 11.35%\n",
      "Epoch: 0, Step: 650, Loss: 2.2897701263427734, Accuracy: 11.35%\n",
      "Epoch: 0, Step: 700, Loss: 2.2851197719573975, Accuracy: 11.35%\n",
      "Epoch: 0, Step: 750, Loss: 2.2877607345581055, Accuracy: 11.35%\n",
      "Epoch: 0, Step: 800, Loss: 2.3082704544067383, Accuracy: 11.35%\n"
     ]
    }
   ],
   "source": [
    "# Hyper Parameters\n",
    "EPOCH = 10               \n",
    "BATCH_SIZE = 3\n",
    "LR = 0.001             \n",
    "TSNE = False\n",
    "\n",
    "#load MNIST dataset\n",
    "train_loader, test_loader = load_mnist(BATCH_SIZE)\n",
    "print(len(train_loader.dataset))\n",
    "print(len(test_loader.dataset))\n",
    "\n",
    "# create model instance\n",
    "hebbnet = HebbNet([784,2000],lr=LR,require_hebb=True,activation=True,update_rule='gupta',p=60)\n",
    "fcn = FCN([2000,10])\n",
    "\n",
    "semihebbnet = SemiHebbNet(hebbnet, fcn)\n",
    "\n",
    "# optimizer and loss function\n",
    "optimizer = torch.optim.Adam(semihebbnet.parameters(), lr=LR)  \n",
    "loss_func = nn.CrossEntropyLoss()                  \n",
    "\n",
    "# train networks\n",
    "train_semihebb(model=semihebbnet, train_loader=train_loader, test_loader=test_loader, optimizer=optimizer, loss_func=loss_func, epochs=EPOCH, tsne_enabled=TSNE)"
   ]
  },
  {
   "cell_type": "code",
   "execution_count": null,
   "metadata": {},
   "outputs": [],
   "source": [
    "# test accuracy\n",
    "test_accuracy(model=semihebbnet, dataset='mnist', flatten_input=True)"
   ]
  }
 ],
 "metadata": {
  "kernelspec": {
   "display_name": "spinningup",
   "language": "python",
   "name": "python3"
  },
  "language_info": {
   "codemirror_mode": {
    "name": "ipython",
    "version": 3
   },
   "file_extension": ".py",
   "mimetype": "text/x-python",
   "name": "python",
   "nbconvert_exporter": "python",
   "pygments_lexer": "ipython3",
   "version": "3.9.16"
  }
 },
 "nbformat": 4,
 "nbformat_minor": 2
}
