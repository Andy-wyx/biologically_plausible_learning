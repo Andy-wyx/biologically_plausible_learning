{
 "cells": [
  {
   "cell_type": "code",
   "execution_count": null,
   "metadata": {},
   "outputs": [],
   "source": [
    "import os\n",
    "#import sys\n",
    "import torch\n",
    "import torch.nn as nn\n",
    "import torch.utils.data as Data\n",
    "import torchvision\n",
    "import matplotlib.pyplot as plt\n",
    "\n",
    "#sys.path.append('../')\n",
    "from data.load_data import *\n",
    "from models.neural_networks import *\n",
    "from train.train_cnn import *\n",
    "from train.train_fcn import *\n",
    "from evaluation.test import *\n",
    "from utils.others import *\n",
    "from utils.plot import *\n",
    "from utils.save_model import *"
   ]
  },
  {
   "cell_type": "code",
   "execution_count": null,
   "metadata": {},
   "outputs": [],
   "source": [
    "# torch.manual_seed(1)    # reproducible\n",
    "\n",
    "# Hyper Parameters\n",
    "EPOCH = 1               \n",
    "BATCH_SIZE = 64\n",
    "LR = 0.001             \n",
    "TSNE = False"
   ]
  },
  {
   "cell_type": "code",
   "execution_count": null,
   "metadata": {},
   "outputs": [],
   "source": [
    "#load MNIST dataset\n",
    "train_loader, test_loader = load_mnist(BATCH_SIZE)\n",
    "print(len(train_loader.dataset))\n",
    "print(len(test_loader.dataset))\n",
    "#load CIFAR-10 dataset"
   ]
  },
  {
   "cell_type": "code",
   "execution_count": null,
   "metadata": {},
   "outputs": [],
   "source": [
    "# Plot one example\n",
    "plot_example(train_loader)"
   ]
  },
  {
   "cell_type": "code",
   "execution_count": null,
   "metadata": {},
   "outputs": [],
   "source": [
    "# create model instance\n",
    "\n",
    "hebbnet = HebbNet([784,50])\n",
    "fcn2 = FCN([50,10])\n",
    "\n",
    "semihebbnet = SemiHebbNet(hebbnet, fcn2)"
   ]
  },
  {
   "cell_type": "code",
   "execution_count": null,
   "metadata": {},
   "outputs": [],
   "source": [
    "# optimizer and loss function\n",
    "optimizer = torch.optim.Adam(semihebbnet.parameters(), lr=LR)  \n",
    "loss_func = nn.CrossEntropyLoss()                       # the target label is not one-hotted"
   ]
  },
  {
   "cell_type": "code",
   "execution_count": null,
   "metadata": {},
   "outputs": [],
   "source": [
    "# train networks\n",
    "train_cnn(model=semihebbnet, train_loader=train_loader, test_loader=test_loader, optimizer=optimizer, loss_func=loss_func, epochs=EPOCH, tsne_enabled=TSNE)"
   ]
  },
  {
   "cell_type": "code",
   "execution_count": null,
   "metadata": {},
   "outputs": [],
   "source": [
    "# test accuracy\n",
    "test_accuracy(model=semihebbnet, dataset='mnist')"
   ]
  }
 ],
 "metadata": {
  "kernelspec": {
   "display_name": "spinningup",
   "language": "python",
   "name": "python3"
  },
  "language_info": {
   "name": "python",
   "version": "3.9.16"
  }
 },
 "nbformat": 4,
 "nbformat_minor": 2
}
