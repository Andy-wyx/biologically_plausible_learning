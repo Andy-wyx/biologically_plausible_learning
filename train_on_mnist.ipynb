{
 "cells": [
  {
   "cell_type": "code",
   "execution_count": 4,
   "metadata": {},
   "outputs": [],
   "source": [
    "import os\n",
    "#import sys\n",
    "import torch\n",
    "import torch.nn as nn\n",
    "import torch.utils.data as Data\n",
    "import torchvision\n",
    "import matplotlib.pyplot as plt\n",
    "\n",
    "#sys.path.append('../')\n",
    "from data.load_data import *\n",
    "from models.neural_networks import *\n",
    "from train.train_cnn import *\n",
    "from train.train_fcn import *\n",
    "from evaluation.test import *\n",
    "from utils.others import *\n",
    "from utils.plot import *\n",
    "from utils.save_model import *\n"
   ]
  },
  {
   "cell_type": "markdown",
   "metadata": {},
   "source": [
    "# Pretrain a CNN\n",
    "\n",
    "architecture: ConvLayers([(1,16,5,1,2),(16,32,5,1,2)])+ FCN([32 * 7* 7,10])"
   ]
  },
  {
   "cell_type": "code",
   "execution_count": 5,
   "metadata": {},
   "outputs": [],
   "source": [
    "# torch.manual_seed(1)    # reproducible\n",
    "\n",
    "# Hyper Parameters\n",
    "EPOCH = 1               \n",
    "BATCH_SIZE = 50\n",
    "LR = 0.001             \n",
    "TSNE = False"
   ]
  },
  {
   "cell_type": "code",
   "execution_count": 6,
   "metadata": {},
   "outputs": [
    {
     "name": "stdout",
     "output_type": "stream",
     "text": [
      "60000\n",
      "10000\n"
     ]
    }
   ],
   "source": [
    "#load MNIST dataset\n",
    "train_loader, test_loader = load_mnist(BATCH_SIZE)\n",
    "print(len(train_loader.dataset))\n",
    "print(len(test_loader.dataset))\n",
    "#load CIFAR-10 dataset"
   ]
  },
  {
   "cell_type": "code",
   "execution_count": 4,
   "metadata": {},
   "outputs": [
    {
     "data": {
      "image/png": "[encoded data removed]",
      "text/plain": [
       "<Figure size 640x480 with 1 Axes>"
      ]
     },
     "metadata": {},
     "output_type": "display_data"
    }
   ],
   "source": [
    "# Plot one example\n",
    "plot_example(train_loader)"
   ]
  },
  {
   "cell_type": "code",
   "execution_count": 5,
   "metadata": {},
   "outputs": [],
   "source": [
    "# create model instance\n",
    "conv = ConvLayers([(1,16,5,1,2),(16,32,5,1,2)])\n",
    "fcn1 = FCN([32*7*7,10])\n",
    "#hebbnet = HebbNet([784,50])\n",
    "#fcn2 = FCN([50,20,10]) \n",
    "\n",
    "cnn = CNN(conv, fcn1)\n",
    "#semihebbnet = SemiHebbNet(hebbnet, fcn2)"
   ]
  },
  {
   "cell_type": "code",
   "execution_count": 6,
   "metadata": {},
   "outputs": [],
   "source": [
    "# optimizer and loss function\n",
    "optimizer = torch.optim.Adam(cnn.parameters(), lr=LR)  \n",
    "loss_func = nn.CrossEntropyLoss()                       # the target label is not one-hotted"
   ]
  },
  {
   "cell_type": "code",
   "execution_count": 7,
   "metadata": {},
   "outputs": [
    {
     "name": "stdout",
     "output_type": "stream",
     "text": [
      "Epoch: 0, Step: 0, Loss: 2.296229124069214, Accuracy: 11.22%\n",
      "Epoch: 0, Step: 50, Loss: 0.28149300813674927, Accuracy: 85.97%\n",
      "Epoch: 0, Step: 100, Loss: 0.30738985538482666, Accuracy: 92.96%\n",
      "Epoch: 0, Step: 150, Loss: 0.3352164328098297, Accuracy: 94.5%\n",
      "Epoch: 0, Step: 200, Loss: 0.15819312632083893, Accuracy: 95.78%\n",
      "Epoch: 0, Step: 250, Loss: 0.2139710932970047, Accuracy: 96.45%\n",
      "Epoch: 0, Step: 300, Loss: 0.11644254624843597, Accuracy: 96.33%\n",
      "Epoch: 0, Step: 350, Loss: 0.20506872236728668, Accuracy: 96.55%\n",
      "Epoch: 0, Step: 400, Loss: 0.05102711170911789, Accuracy: 96.51%\n",
      "Epoch: 0, Step: 450, Loss: 0.13975927233695984, Accuracy: 96.47%\n",
      "Epoch: 0, Step: 500, Loss: 0.18089862167835236, Accuracy: 97.27%\n",
      "Epoch: 0, Step: 550, Loss: 0.02694789133965969, Accuracy: 97.7%\n",
      "Epoch: 0, Step: 600, Loss: 0.02809602953493595, Accuracy: 98.17%\n",
      "Epoch: 0, Step: 650, Loss: 0.17506980895996094, Accuracy: 98.0%\n",
      "Epoch: 0, Step: 700, Loss: 0.023077435791492462, Accuracy: 97.97%\n",
      "Epoch: 0, Step: 750, Loss: 0.050765201449394226, Accuracy: 98.23%\n",
      "Epoch: 0, Step: 800, Loss: 0.024974975734949112, Accuracy: 98.26%\n",
      "Epoch: 0, Step: 850, Loss: 0.06864377111196518, Accuracy: 98.11%\n",
      "Epoch: 0, Step: 900, Loss: 0.20394684374332428, Accuracy: 98.12%\n",
      "Epoch: 0, Step: 950, Loss: 0.02610938996076584, Accuracy: 98.27%\n",
      "Epoch: 0, Step: 1000, Loss: 0.10877315700054169, Accuracy: 98.41%\n",
      "Epoch: 0, Step: 1050, Loss: 0.04804181680083275, Accuracy: 98.57%\n",
      "Epoch: 0, Step: 1100, Loss: 0.021336877718567848, Accuracy: 98.25%\n",
      "Epoch: 0, Step: 1150, Loss: 0.051014598459005356, Accuracy: 98.19%\n"
     ]
    }
   ],
   "source": [
    "# train networks\n",
    "train_cnn(model=cnn, train_loader=train_loader, test_loader=test_loader, optimizer=optimizer, loss_func=loss_func, epochs=EPOCH, tsne_enabled=TSNE)"
   ]
  },
  {
   "cell_type": "code",
   "execution_count": 8,
   "metadata": {},
   "outputs": [
    {
     "name": "stdout",
     "output_type": "stream",
     "text": [
      "Accuracy of the CNN on the MNIST test images: 98.47%\n"
     ]
    },
    {
     "data": {
      "text/plain": [
       "98.47"
      ]
     },
     "execution_count": 8,
     "metadata": {},
     "output_type": "execute_result"
    }
   ],
   "source": [
    "# test accuracy\n",
    "test_accuracy(model=cnn, dataset='mnist')"
   ]
  },
  {
   "cell_type": "code",
   "execution_count": 9,
   "metadata": {},
   "outputs": [
    {
     "name": "stdout",
     "output_type": "stream",
     "text": [
      "Model saved at pretrained/mnist_models/cnn.pth\n"
     ]
    }
   ],
   "source": [
    "#save pretrained model\n",
    "model_save_path = 'pretrained/mnist_models/cnn.pth'\n",
    "save_model(cnn, model_save_path)"
   ]
  },
  {
   "cell_type": "code",
   "execution_count": 10,
   "metadata": {},
   "outputs": [
    {
     "name": "stdout",
     "output_type": "stream",
     "text": [
      "Accuracy of the CNN on the MNIST test images: 98.47%\n"
     ]
    },
    {
     "data": {
      "text/plain": [
       "98.47"
      ]
     },
     "execution_count": 10,
     "metadata": {},
     "output_type": "execute_result"
    }
   ],
   "source": [
    "#load model and test\n",
    "new_conv = ConvLayers([(1,16,5,1,2),(16,32,5,1,2)])\n",
    "new_fcn1 = FCN([32*7*7,10])\n",
    "pretrained_cnn = CNN(new_conv, new_fcn1, pretrained_model_path=model_save_path)\n",
    "\n",
    "test_accuracy(model=pretrained_cnn, dataset='mnist')"
   ]
  },
  {
   "cell_type": "markdown",
   "metadata": {},
   "source": [
    "# Pretrain a Shallower CNN\n",
    "\n",
    "architecture: ConvLayers([(1,8,3,2,1)])+ FCN([8* 7* 7,10])"
   ]
  },
  {
   "cell_type": "code",
   "execution_count": 14,
   "metadata": {},
   "outputs": [],
   "source": [
    "# create model instance\n",
    "conv = ConvLayers([(1,8,3,2,1)])\n",
    "fcn1 = FCN([8*7*7,10])\n",
    "\n",
    "cnn2 = CNN(conv, fcn1)"
   ]
  },
  {
   "cell_type": "code",
   "execution_count": 15,
   "metadata": {},
   "outputs": [],
   "source": [
    "# optimizer and loss function\n",
    "optimizer = torch.optim.Adam(cnn2.parameters(), lr=LR)  \n",
    "loss_func = nn.CrossEntropyLoss()                       # the target label is not one-hotted"
   ]
  },
  {
   "cell_type": "code",
   "execution_count": 16,
   "metadata": {},
   "outputs": [
    {
     "name": "stdout",
     "output_type": "stream",
     "text": [
      "Epoch: 0, Step: 0, Loss: 2.2940406799316406, Accuracy: 12.41%\n",
      "Epoch: 0, Step: 50, Loss: 1.6877399682998657, Accuracy: 66.39%\n",
      "Epoch: 0, Step: 100, Loss: 1.1044986248016357, Accuracy: 81.71%\n",
      "Epoch: 0, Step: 150, Loss: 0.6485647559165955, Accuracy: 85.59%\n",
      "Epoch: 0, Step: 200, Loss: 0.4553912281990051, Accuracy: 87.55%\n",
      "Epoch: 0, Step: 250, Loss: 0.4479808807373047, Accuracy: 88.73%\n",
      "Epoch: 0, Step: 300, Loss: 0.57773357629776, Accuracy: 89.46%\n",
      "Epoch: 0, Step: 350, Loss: 0.34897392988204956, Accuracy: 90.67%\n",
      "Epoch: 0, Step: 400, Loss: 0.43525180220603943, Accuracy: 90.67%\n",
      "Epoch: 0, Step: 450, Loss: 0.31217652559280396, Accuracy: 91.53%\n",
      "Epoch: 0, Step: 500, Loss: 0.4613203704357147, Accuracy: 92.04%\n",
      "Epoch: 0, Step: 550, Loss: 0.40748026967048645, Accuracy: 92.37%\n",
      "Epoch: 0, Step: 600, Loss: 0.4213375151157379, Accuracy: 92.62%\n",
      "Epoch: 0, Step: 650, Loss: 0.3978551924228668, Accuracy: 92.92%\n",
      "Epoch: 0, Step: 700, Loss: 0.20192182064056396, Accuracy: 93.18%\n",
      "Epoch: 0, Step: 750, Loss: 0.2824063003063202, Accuracy: 93.13%\n",
      "Epoch: 0, Step: 800, Loss: 0.29092833399772644, Accuracy: 93.56%\n",
      "Epoch: 0, Step: 850, Loss: 0.13734079897403717, Accuracy: 93.17%\n",
      "Epoch: 0, Step: 900, Loss: 0.12518608570098877, Accuracy: 93.41%\n",
      "Epoch: 0, Step: 950, Loss: 0.26327821612358093, Accuracy: 94.22%\n",
      "Epoch: 0, Step: 1000, Loss: 0.10411977022886276, Accuracy: 93.7%\n",
      "Epoch: 0, Step: 1050, Loss: 0.2269921749830246, Accuracy: 93.99%\n",
      "Epoch: 0, Step: 1100, Loss: 0.23320156335830688, Accuracy: 94.16%\n",
      "Epoch: 0, Step: 1150, Loss: 0.23214149475097656, Accuracy: 94.19%\n"
     ]
    }
   ],
   "source": [
    "# train networks\n",
    "train_cnn(model=cnn2, train_loader=train_loader, test_loader=test_loader, optimizer=optimizer, loss_func=loss_func, epochs=EPOCH, tsne_enabled=TSNE)"
   ]
  },
  {
   "cell_type": "code",
   "execution_count": 19,
   "metadata": {},
   "outputs": [
    {
     "name": "stdout",
     "output_type": "stream",
     "text": [
      "Accuracy of the CNN on the MNIST test images: 94.5%\n"
     ]
    },
    {
     "data": {
      "text/plain": [
       "94.5"
      ]
     },
     "execution_count": 19,
     "metadata": {},
     "output_type": "execute_result"
    }
   ],
   "source": [
    "# test accuracy\n",
    "test_accuracy(model=cnn2, dataset='mnist')"
   ]
  },
  {
   "cell_type": "code",
   "execution_count": 17,
   "metadata": {},
   "outputs": [
    {
     "name": "stdout",
     "output_type": "stream",
     "text": [
      "Model saved at pretrained/mnist_models/cnn2.pth\n"
     ]
    }
   ],
   "source": [
    "#save pretrained model\n",
    "model_save_path = 'pretrained/mnist_models/cnn2.pth'\n",
    "save_model(cnn2, model_save_path)"
   ]
  },
  {
   "cell_type": "code",
   "execution_count": 18,
   "metadata": {},
   "outputs": [
    {
     "name": "stdout",
     "output_type": "stream",
     "text": [
      "Accuracy of the CNN on the MNIST test images: 94.5%\n"
     ]
    },
    {
     "data": {
      "text/plain": [
       "94.5"
      ]
     },
     "execution_count": 18,
     "metadata": {},
     "output_type": "execute_result"
    }
   ],
   "source": [
    "#load model and test\n",
    "new_conv = ConvLayers([(1,8,3,2,1)])\n",
    "new_fcn1 = FCN([8*7*7,10])\n",
    "pretrained_cnn2 = CNN(new_conv, new_fcn1, pretrained_model_path=model_save_path)\n",
    "\n",
    "test_accuracy(model=pretrained_cnn2, dataset='mnist')"
   ]
  },
  {
   "cell_type": "markdown",
   "metadata": {},
   "source": [
    "# Pretrain a FCN with comparable parameters as the cnn2\n",
    "\n",
    "FCN([28*28,8,8,10]) with 6442 trainable weights"
   ]
  },
  {
   "cell_type": "code",
   "execution_count": 7,
   "metadata": {},
   "outputs": [],
   "source": [
    "fcn = FCN([28*28,8,8,10])"
   ]
  },
  {
   "cell_type": "code",
   "execution_count": 8,
   "metadata": {},
   "outputs": [],
   "source": [
    "# optimizer and loss function\n",
    "optimizer = torch.optim.Adam(fcn.parameters(), lr=LR)  \n",
    "loss_func = nn.CrossEntropyLoss()                       # the target label is not one-hotted"
   ]
  },
  {
   "cell_type": "code",
   "execution_count": 9,
   "metadata": {},
   "outputs": [
    {
     "name": "stdout",
     "output_type": "stream",
     "text": [
      "Epoch: 0, Step: 0, Loss: 2.282907009124756, Accuracy: 11.12%\n",
      "Epoch: 0, Step: 50, Loss: 1.4978293180465698, Accuracy: 55.53%\n",
      "Epoch: 0, Step: 100, Loss: 0.9737322926521301, Accuracy: 71.48%\n",
      "Epoch: 0, Step: 150, Loss: 1.160001277923584, Accuracy: 75.56%\n",
      "Epoch: 0, Step: 200, Loss: 0.9772011637687683, Accuracy: 80.56%\n",
      "Epoch: 0, Step: 250, Loss: 0.5750992298126221, Accuracy: 84.65%\n",
      "Epoch: 0, Step: 300, Loss: 0.3462158441543579, Accuracy: 84.97%\n",
      "Epoch: 0, Step: 350, Loss: 0.3971533477306366, Accuracy: 86.24%\n",
      "Epoch: 0, Step: 400, Loss: 0.2845497131347656, Accuracy: 87.24%\n",
      "Epoch: 0, Step: 450, Loss: 0.9241858124732971, Accuracy: 87.13%\n",
      "Epoch: 0, Step: 500, Loss: 0.6032810211181641, Accuracy: 87.75%\n",
      "Epoch: 0, Step: 550, Loss: 0.4403170645236969, Accuracy: 87.81%\n",
      "Epoch: 0, Step: 600, Loss: 0.32620498538017273, Accuracy: 88.13%\n",
      "Epoch: 0, Step: 650, Loss: 0.32420849800109863, Accuracy: 88.41%\n",
      "Epoch: 0, Step: 700, Loss: 0.3733052909374237, Accuracy: 88.76%\n",
      "Epoch: 0, Step: 750, Loss: 0.19557099044322968, Accuracy: 86.48%\n",
      "Epoch: 0, Step: 800, Loss: 0.25494498014450073, Accuracy: 88.86%\n",
      "Epoch: 0, Step: 850, Loss: 0.42711567878723145, Accuracy: 88.66%\n",
      "Epoch: 0, Step: 900, Loss: 0.28363338112831116, Accuracy: 88.05%\n",
      "Epoch: 0, Step: 950, Loss: 0.2773597836494446, Accuracy: 89.48%\n",
      "Epoch: 0, Step: 1000, Loss: 0.1727924793958664, Accuracy: 89.34%\n",
      "Epoch: 0, Step: 1050, Loss: 0.24678386747837067, Accuracy: 88.78%\n",
      "Epoch: 0, Step: 1100, Loss: 0.4236986041069031, Accuracy: 89.1%\n",
      "Epoch: 0, Step: 1150, Loss: 0.43787428736686707, Accuracy: 89.22%\n"
     ]
    }
   ],
   "source": [
    "# train networks\n",
    "train_fcn(model=fcn, train_loader=train_loader, test_loader=test_loader, optimizer=optimizer, loss_func=loss_func, epochs=EPOCH)"
   ]
  },
  {
   "cell_type": "code",
   "execution_count": 10,
   "metadata": {},
   "outputs": [
    {
     "name": "stdout",
     "output_type": "stream",
     "text": [
      "Accuracy of the FCN on the MNIST test images: 89.36%\n"
     ]
    },
    {
     "data": {
      "text/plain": [
       "89.36"
      ]
     },
     "execution_count": 10,
     "metadata": {},
     "output_type": "execute_result"
    }
   ],
   "source": [
    "# test accuracy\n",
    "test_accuracy(model=fcn, dataset='mnist', flatten_input=True)"
   ]
  },
  {
   "cell_type": "code",
   "execution_count": 11,
   "metadata": {},
   "outputs": [
    {
     "name": "stdout",
     "output_type": "stream",
     "text": [
      "Model saved at pretrained/mnist_models/fcn.pth\n"
     ]
    }
   ],
   "source": [
    "#save pretrained model\n",
    "model_save_path = 'pretrained/mnist_models/fcn.pth'\n",
    "save_model(fcn, model_save_path)"
   ]
  },
  {
   "cell_type": "code",
   "execution_count": 13,
   "metadata": {},
   "outputs": [
    {
     "name": "stdout",
     "output_type": "stream",
     "text": [
      "Accuracy of the FCN on the MNIST test images: 89.36%\n"
     ]
    },
    {
     "data": {
      "text/plain": [
       "89.36"
      ]
     },
     "execution_count": 13,
     "metadata": {},
     "output_type": "execute_result"
    }
   ],
   "source": [
    "#load model and test\n",
    "\n",
    "pretrained_fcn = FCN([28*28,8,8,10],pretrained_model_path=model_save_path)\n",
    "test_accuracy(model=pretrained_fcn, dataset='mnist',flatten_input=True)"
   ]
  }
 ],
 "metadata": {
  "kernelspec": {
   "display_name": "spinningup",
   "language": "python",
   "name": "python3"
  },
  "language_info": {
   "codemirror_mode": {
    "name": "ipython",
    "version": 3
   },
   "file_extension": ".py",
   "mimetype": "text/x-python",
   "name": "python",
   "nbconvert_exporter": "python",
   "pygments_lexer": "ipython3",
   "version": "3.9.16"
  }
 },
 "nbformat": 4,
 "nbformat_minor": 2
}
